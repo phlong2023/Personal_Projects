{
  "cells": [
    {
      "cell_type": "raw",
      "metadata": {},
      "source": [
        "---\n",
        "title: \"Untangling Fact from Falsehood Using NLP\"\n",
        "date-modified: 'last-modified'\n",
        "format: html\n",
        "execute: \n",
        "  eval: true # run the code live\n",
        "  echo: true # all code will appear\n",
        "  warning: false # hide all warnings\n",
        "editor: visual\n",
        "---"
      ],
      "id": "c5716363"
    },
    {
      "cell_type": "markdown",
      "metadata": {},
      "source": [
        "This project was done as part of ISSS609: Text Analytics and Applications. The analysis was performed jointly with Chock Wan Kee, Denise Tan Shi Min, Lim Li Ying, Noel Ng Ser Ying, and Tan Yanni Regine.\n",
        "\n",
        "Main language/tool: Python\n",
        "\n",
        "## Introduction\n",
        "\n",
        "The proliferation of fake news is a growing global concern, impacting public opinion, political processes, and trust in media institutions. Fake news is defined as fabricated information that mimics news media content in form but not in organizational process or intent (Lazer, et al., 2018). The spread of misinformation poses significant challenges to foster an informed citizenry as it makes people more susceptible to political misinterpretations (Guess, et al., 2020), thereby increasing the challenge of upholding credibility and integrity of information sources.\n",
        "\n",
        "Many experiments have been designed and conducted to put Machine Learning techniques to the test in detecting fake from true news. Our project seeks to determine if detection accuracy can be improved with additional features from sentiment analysis.  Sentiment analysis discerns the emotional tone of text, thereby providing insights to how information is framed and its potential impact on readers.\n",
        "\n",
        "The dataset used in this project is the “[Fake News Detection](https://www.kaggle.com/code/therealsampat/fake-news-detection/input?select=True.csv)” dataset from Kaggle. It contains fake and real news from 31 May 2015 to 19 Feb 2018. The two classes of data are separated into the respective “Fake” and “True” files, which will be combined for our analysis.\n",
        "\n",
        "## Methodology\n",
        "\n",
        "We adopted a sequential approach to the analysis that is summarized in the flow chart below:\n",
        "\n",
        "![](images/clipboard-418630220.png)\n",
        "\n",
        "Firstly, the separate “Fake” and “True” files had to be merged into one for analysis. To differentiate between the fake and real news after merging for classification, labels were assigned to each record from the same file, 0 for real news and 1 for fake news. After merging both files, the title and text columns are concatenated to create a corpus for text preprocessing.\n",
        "\n",
        "Next, preprocessing steps involving tokenization, stop word removal, and stemming are applied on the corpus. It was discovered that some words, such as days of the week and “say” or “said”, appeared in high frequency and did not help to distinguish one document from another. It is reasonable that these words appear frequently in news reports as they provide details on incidents which often include reported speech. In view of the above, we included these words as stop words to be removed from the corpus.\n",
        "\n",
        "After identifying the best model, additional features such as sentiment analysis scores (including compound score from NLTK’s VADER and subjectivity and polarity scores from TextBlob) were incorporated into the model to evaluate their impact on enhancing the model’s performance. This is due to the fact that sentiment analysis has been shown to be a potentially powerful tool in identifying fake news, as will be elaborated later in the article.\n",
        "\n",
        "One challenge is the size of the corpus containing more than 40,000 documents. Choosing a model that can work efficiently with this corpus size will be a crucial factor.\n",
        "\n",
        "Finally, three classification methods are used to find the best performing model in classifying fake news.\n",
        "\n",
        "The following sections will go into the codes used and describe their functions.\n",
        "\n",
        "## Import Libraries and Datasets\n",
        "\n",
        "### Load Required Packages\n"
      ],
      "id": "47e71a68"
    },
    {
      "cell_type": "code",
      "metadata": {},
      "source": [
        "import pandas as pd\n",
        "import numpy as np\n",
        "import matplotlib.pyplot as plt\n",
        "import seaborn as sns\n",
        "\n",
        "import nltk\n",
        "from nltk.tokenize import word_tokenize\n",
        "from nltk.stem.porter import PorterStemmer\n",
        "from nltk.sentiment import SentimentIntensityAnalyzer\n",
        "\n",
        "import gensim\n",
        "from gensim.parsing.preprocessing import STOPWORDS\n",
        "from gensim.models import CoherenceModel\n",
        "\n",
        "import importlib\n",
        "import subprocess\n",
        "import re\n",
        "import warnings\n",
        "import datetime\n",
        "import itertools\n",
        "warnings.simplefilter(action='ignore', category=FutureWarning)\n",
        "\n",
        "from sklearn import svm\n",
        "from sklearn.model_selection import train_test_split, cross_validate, StratifiedKFold\n",
        "from sklearn.feature_extraction.text import TfidfVectorizer, CountVectorizer\n",
        "from sklearn.pipeline import Pipeline\n",
        "from sklearn.metrics import confusion_matrix, ConfusionMatrixDisplay, classification_report, roc_auc_score, roc_curve, make_scorer, accuracy_score, precision_score, recall_score, f1_score\n",
        "from sklearn.linear_model import LogisticRegression\n",
        "from sklearn.calibration import CalibratedClassifierCV\n",
        "from sklearn.decomposition import LatentDirichletAllocation\n",
        "from sklearn.utils import resample\n",
        "from sklearn.preprocessing import StandardScaler\n",
        "\n",
        "from scipy import stats\n",
        "from scipy.sparse import hstack\n",
        "\n",
        "import xgboost as xgb\n",
        "\n",
        "from textblob import TextBlob\n",
        "\n",
        "try:\n",
        "    importlib.import_module('textblob')\n",
        "except ImportError:\n",
        "    subprocess.check_call(['pip', 'install', 'textblob'])"
      ],
      "id": "79baf463",
      "execution_count": null,
      "outputs": []
    },
    {
      "cell_type": "markdown",
      "metadata": {},
      "source": [
        "### Load Dataset\n"
      ],
      "id": "29179a3c"
    },
    {
      "cell_type": "code",
      "metadata": {},
      "source": [
        "df_fake = pd.read_csv('data/Fake.csv')\n",
        "df_true = pd.read_csv('data/True.csv')"
      ],
      "id": "9d7c8d48",
      "execution_count": null,
      "outputs": []
    },
    {
      "cell_type": "markdown",
      "metadata": {},
      "source": [
        "### See the Top 5 Rows in Each Dataframe\n"
      ],
      "id": "459e2539"
    },
    {
      "cell_type": "code",
      "metadata": {},
      "source": [
        "df_fake.head()"
      ],
      "id": "775b2e41",
      "execution_count": null,
      "outputs": []
    },
    {
      "cell_type": "code",
      "metadata": {},
      "source": [
        "df_true.head()"
      ],
      "id": "664928a9",
      "execution_count": null,
      "outputs": []
    },
    {
      "cell_type": "markdown",
      "metadata": {},
      "source": [
        "## Data Preparation\n",
        "\n",
        "Inserting column \"class\" to identify target features\n"
      ],
      "id": "bbec728f"
    },
    {
      "cell_type": "code",
      "metadata": {},
      "source": [
        "df_fake['class'] = 1\n",
        "df_true['class'] = 0"
      ],
      "id": "fd18eeef",
      "execution_count": null,
      "outputs": []
    },
    {
      "cell_type": "markdown",
      "metadata": {},
      "source": [
        "Merging df_true and df_fake\n"
      ],
      "id": "88101c2f"
    },
    {
      "cell_type": "code",
      "metadata": {},
      "source": [
        "df_merge = pd.concat([df_true, df_fake], axis = 0)\n",
        "df_merge.head() "
      ],
      "id": "e912734a",
      "execution_count": null,
      "outputs": []
    },
    {
      "cell_type": "markdown",
      "metadata": {},
      "source": [
        "Let's determine the number of articles in the corpus.\n"
      ],
      "id": "e1b3d49a"
    },
    {
      "cell_type": "code",
      "metadata": {},
      "source": [
        "print('The number of articles in the corpus is: ', len(df_merge))"
      ],
      "id": "cad299cd",
      "execution_count": null,
      "outputs": []
    },
    {
      "cell_type": "markdown",
      "metadata": {},
      "source": [
        "Combine title and text into one column for later analysis to consider both fields.\n"
      ],
      "id": "977054c9"
    },
    {
      "cell_type": "code",
      "metadata": {},
      "source": [
        "df_merge['text'] = df_merge['title'] + df_merge['text']\n",
        "df_merge.head()"
      ],
      "id": "9a4f05bc",
      "execution_count": null,
      "outputs": []
    },
    {
      "cell_type": "markdown",
      "metadata": {},
      "source": [
        "There are columns which we would not need for the purpose of this analysis: title, subject, and date. This can be dropped from the dataframe.\n"
      ],
      "id": "cfcbdddc"
    },
    {
      "cell_type": "code",
      "metadata": {},
      "source": [
        "df = df_merge.drop([\"title\", \"subject\", \"date\"], axis = 1)\n",
        "df.head()"
      ],
      "id": "29ca72e0",
      "execution_count": null,
      "outputs": []
    },
    {
      "cell_type": "markdown",
      "metadata": {},
      "source": [
        "The dataframe rows will be shuffled as during concatenation, the True and Fake classes retained their original location next to each other.\n"
      ],
      "id": "d0ea41a7"
    },
    {
      "cell_type": "code",
      "metadata": {},
      "source": [
        "df = df.sample(frac=1, random_state=42).reset_index(drop=True)\n",
        "df.head()"
      ],
      "id": "d74f4a7f",
      "execution_count": null,
      "outputs": []
    },
    {
      "cell_type": "markdown",
      "metadata": {},
      "source": [
        "We can check whether the number of entries in each class is relatively balanced. If they are not, imputation or under-sampling would have to be performed later during machine learning.\n"
      ],
      "id": "98c370ce"
    },
    {
      "cell_type": "code",
      "metadata": {},
      "source": [
        "sns.countplot(x=\"class\",\n",
        "              data = df)\n",
        "plt.show()"
      ],
      "id": "2e6e7fd7",
      "execution_count": null,
      "outputs": []
    },
    {
      "cell_type": "markdown",
      "metadata": {},
      "source": [
        "It is possible to see that the number of entries in each class is relatively similar, eliminating the need for manipulation later on.\n",
        "\n",
        "## Text Pre-processing\n",
        "\n",
        "The text pre-processing steps used in this project are listed below:\n",
        "\n",
        "[Removal of words that appear only in “true” or “fake” news]{.underline}\n",
        "\n",
        "It can be observed from a visual check of both datasets that certain words and phrases only appear in either data set, while some words appear in both data sets. These words, as shown in the table below, are removed from the corpus as they do not contribute much to distinguish the documents. For example, hyperlink markers such as \"www\" appears in many articles and provides no value.\n",
        "\n",
        "[Tokenize words and change to lowercase]{.underline}\n",
        "\n",
        "Next, to standardize the words in the corpus, .lower() is used to change all word cases to lower case. Following which, the text is tokenized using NLTK’s word_tokenize() function. This will treat each word as a separate component.\n",
        "\n",
        "[Remove stop words]{.underline}\n",
        "\n",
        "Next, stop words are removed from the text. Stop words are words found in text there are deemed unlikely to be useful in information retrieval. Stop words can be understood as words necessary in the use of language but does not provide value for the analysis. Some common stop words are \"the\", \"is\", \"are\". The STOPWORDS library from Gensim is used for this project as it contains the highest number of stop words (337 stop words).\n",
        "\n",
        "[Stemming]{.underline}\n",
        "\n",
        "Next, stemming is applied on the remaining words to normalize text by obtaining only the stem of words. Stemming reduces the variations of a word down to single root. For example, \"cats\" would simply become \"cat\". This is done using the .stem() function from the PorterStemmer module under NLTK.\n",
        "\n",
        "[Remove punctuation]{.underline}\n",
        "\n",
        "Next, we remove all punctuation marks that are retained in the list of words after tokenization. This is achieved by using the .isalpha() function to retain only words that contain only alphabetic characters. Besides removing punctuation points, we can achieve a secondary advantage of removing numeric and special characters that may not contribute meaningfully to the analysis.\n",
        "\n",
        "[Refining pre-processing steps]{.underline}\n",
        "\n",
        "Finally, after an initial round of pre-processing, it was observed that the pre-processed text contained a high frequency of the following: words that are single characters, days of the week, and “says” or “said”. Days of the week and “says” or “said” are words commonly occurring in news articles. Hence, the pre-processing step is refined to include a custom list of stop words (each day of the week, “says”, “said”), and to only retain words that are longer than one character.\n",
        "\n",
        "The code chunk below will perform the described pre-processing steps.\n"
      ],
      "id": "74d11357"
    },
    {
      "cell_type": "code",
      "metadata": {},
      "source": [
        "## A function is defined to perform pre-processing steps for easier usage later on\n",
        "\n",
        "custom_stop_word = ['monday', 'tuesday', 'wednesday', 'thursday', 'friday', 'saturday', 'sunday', 'said', 'says', 's', 't']\n",
        "stop_words = STOPWORDS.union(set(custom_stop_word)) # setting the stopwords\n",
        "stemmer = PorterStemmer() # setting the stemmer\n",
        "\n",
        "def preprocess_tokens(text):\n",
        "    words = re.sub('Reuters', '', text) # removing the word Reuters as it appears in all the real news\n",
        "    words = re.sub('https?:\\S+|www\\.\\S+', ' ', words) # remove URLs that begin with 'https' or 'www'\n",
        "    words = re.sub('bit\\.ly\\S+', ' ', words) # remove URLS that begin with 'bit.ly' - only appears in true news\n",
        "    words = re.sub('pic\\.twitter\\.com\\S+', ' ', words) # remove URLs that begin with 'pic.twitter.com' - only appears in fake news\n",
        "    words = word_tokenize(words.lower())  # convert text to lowercase & split into word tokens\n",
        "    words = [word for word in words if not word in stop_words] # removing the stop words\n",
        "    words = [stemmer.stem(word) for word in words] # stemming the words\n",
        "    words = [word for word in words if word.isalpha()] # removing punctuation\n",
        "    words = [word for word in words if len(word) > 1] # remove single character words\n",
        "    return words"
      ],
      "id": "80ff8316",
      "execution_count": null,
      "outputs": []
    },
    {
      "cell_type": "markdown",
      "metadata": {},
      "source": [
        "The preprrocess_token() function can now be applied onto the text column of our dataframe.\n"
      ],
      "id": "afd8dfd9"
    },
    {
      "cell_type": "code",
      "metadata": {},
      "source": [
        "df['text_preprocessed'] = df[\"text\"].apply(preprocess_tokens)\n",
        "df.head()"
      ],
      "id": "2ed0600f",
      "execution_count": null,
      "outputs": []
    },
    {
      "cell_type": "markdown",
      "metadata": {},
      "source": [
        "Let's determine the distribution of lengths of each token using a plot.\n"
      ],
      "id": "58e870cd"
    },
    {
      "cell_type": "code",
      "metadata": {},
      "source": [
        "# Find the length of each list of preprocessed tokens\n",
        "lengths = [len(tokens) for tokens in df['text_preprocessed']]\n",
        "\n",
        "# Plot the distribution of the length of the list of preprocessed tokens\n",
        "plt.figure(figsize=(8, 6))\n",
        "sns.histplot(lengths, bins=30, color='skyblue', edgecolor='black', kde=False)\n",
        "plt.title('Distribution of the Length of Preprocessed Tokens')\n",
        "plt.xlabel('Length of Preprocessed Tokens')\n",
        "plt.ylabel('Frequency')\n",
        "plt.show()"
      ],
      "id": "fe443ca5",
      "execution_count": null,
      "outputs": []
    },
    {
      "cell_type": "markdown",
      "metadata": {},
      "source": [
        "Alternatively, it is also possible to determine the top 20 most common tokens in the entire corpus. Due to the large number of articles in the corpus, we can sample just the first 1,000 articles in order to get a glimpse of the top 20 most common tokens.\n"
      ],
      "id": "9ef90af0"
    },
    {
      "cell_type": "code",
      "metadata": {},
      "source": [
        "first1000 = list(itertools.chain.from_iterable(df['text_preprocessed'][:1000]))\n",
        "print('most frequent tokens in first 1000 articles \\n', nltk.FreqDist(first1000).most_common(20))"
      ],
      "id": "a8cb4602",
      "execution_count": null,
      "outputs": []
    },
    {
      "cell_type": "markdown",
      "metadata": {},
      "source": [
        "We can see that topics related to United States (U.S) politics dominate the top tokens. These include tokens related to the U.S presidents such as Donald Trump or Barack Obama.\n",
        "\n",
        "## Document Classification - Baseline\n",
        "\n",
        "As the project aims to understand the impact of using sentiment analysis to improve the accuracy of fake news classification using machine learning techniques, a baseline classification model is trained using only the processed data that excludes additional features.\n",
        "\n",
        "Two model evaluation methods are explored in this project. The Train-Test Split Method is used and validated using the evaluation metrics, the K-Fold Cross Validation Method is used. As mentioned in the previous section, three classification models are employed in this project: XGBoost, SVM, and Logistic Regression.\n",
        "\n",
        "First, the processed data is split into 70% for training and 30% for testing. This ratio is decided as it provides sufficient data to train the classification models (31,429 records), and adequate data to evaluate the performance of the models (13,469 records). Furthermore, this split also balances the computational resources required to train the models and leaves enough data for K-Fold Cross Validation.\n",
        "\n",
        "Next, the processed data is vectorized using the TfidfVectorizer, which converts raw strings into a matrix of Term Frequency-Inverse Document Frequency (TF-IDF) features. This allows a higher weightage to be assigned to words that occur less frequently in the corpus as these words are more discriminative. The split X_train data is vectorized using the .fit_transform() function while the X_test data is vectorized using the .transform() function.\n",
        "\n",
        "Next, we define a function to return the evaluation results for each model. The function makes predictions using the test data and calculates the evaluation metrics. The metrics are calculated using the classification_report() function from sklearn and it includes the precision, recall, f1-score, and support. The function also generates the confusion matrix created using the confusion_matrix() function from sklearn and the AUC-ROC curve, which plots true positive rate against false positive rate. This function can be called with each model to evaluate them separately.\n",
        "\n",
        "Using the train-test split method alone may introduce bias that is an over- or underestimation of the performance of a model. K-fold cross-validation can be used to conduct a systematic evaluation of the model (Kohavi, 1995).\n",
        "\n",
        "To achieve this, we wrote another function to evaluate each model using the k-fold evaluation method, where k = 10 in this project. This is implemented using the StratifiedKFold function from sklearn. This function splits the entire vectorized data set into 10 equal-sized parts with approximately similar proportions of class 0 and class 1 data. Next, we evaluated each model 10 times, each time using one fold as the validation set, and the average of the performance over 10 rounds of training and validation is used as the overall performance metric. This is achieved using the cross_validate() function from sklearn, and the precision, recall, f1-score, and support scores are created using the make_scorer() function from sklearn.\n",
        "\n",
        "After obtaining the results of the baseline model, the data frame is fitted with features from the subsequent analyses – sentiment analysis using VADER and TextBlob. The train-test split method and k-fold cross-validation are applied to the corpus with the addition of the following features:\n",
        "\n",
        "-   Compound score from VADER\n",
        "\n",
        "-   Polarity and Subjectivity scores from TextBlob\n",
        "\n",
        "-   Compound score from VADER, and Polarity and Subjectivity scores from TextBlob\n",
        "\n",
        "But first, let's consider the performance of a simple baseline solution without any additional features. This can be performed using the code chunks below.\n",
        "\n",
        "### Simple Train - Test Model Evaluation\n",
        "\n",
        "In this section, our baseline solution will only split the data into a train and test set in order to evaluate the performance of each model.\n",
        "\n",
        "First, we define variables to store the independent variable, or the text, and the dependent variable, or the class of Fake or True.\n"
      ],
      "id": "99f19e3b"
    },
    {
      "cell_type": "code",
      "metadata": {},
      "source": [
        "X = df['text_preprocessed']\n",
        "y = df['class']"
      ],
      "id": "c7ebde48",
      "execution_count": null,
      "outputs": []
    },
    {
      "cell_type": "markdown",
      "metadata": {},
      "source": [
        "Next, we split the data into a train and test set in order to make sure the models can be trained and evaluated on separate data sets, or in other words, to make sure that each model is not being tested on data it has seen during training.\n"
      ],
      "id": "1eab7ba1"
    },
    {
      "cell_type": "code",
      "metadata": {},
      "source": [
        "X_train, X_test, y_train, y_test = train_test_split(X, y, test_size=0.3, shuffle=True, random_state=42)"
      ],
      "id": "90a717f7",
      "execution_count": null,
      "outputs": []
    },
    {
      "cell_type": "markdown",
      "metadata": {},
      "source": [
        "Because the TfidfVectorizer will not work with word tokens, our tokens would need to be passed through a dummy function first. Essentially, the TfidfVectorizer has its own tokenizer argument meant to tokenize input strings. By inputing our dummy function as a tokenizer, we can use the tokens we have already created.\n"
      ],
      "id": "b7dbb86c"
    },
    {
      "cell_type": "code",
      "metadata": {},
      "source": [
        "def dummy(tokens):\n",
        "    return tokens\n",
        "\n",
        "vectorizer = TfidfVectorizer(tokenizer=dummy, \n",
        "                             preprocessor=dummy,\n",
        "                             token_pattern=None, \n",
        "                             ngram_range = (1,1), \n",
        "                             min_df = 0.1)\n",
        "                             \n",
        "X_train = vectorizer.fit_transform(X_train)\n",
        "X_test = vectorizer.transform(X_test)"
      ],
      "id": "0ceae026",
      "execution_count": null,
      "outputs": []
    },
    {
      "cell_type": "markdown",
      "metadata": {},
      "source": [
        "Next, we can create a dictionary of models we would like to evaluate. For this analysis, we will use three models discussed during the course: XGBoost, Support Vector Machine (SVM), and Logistic Regression.\n"
      ],
      "id": "09cc9e28"
    },
    {
      "cell_type": "code",
      "metadata": {},
      "source": [
        "models = {\n",
        "    'XGBoost': xgb.XGBClassifier(),\n",
        "    'SVM': CalibratedClassifierCV(svm.LinearSVC()),\n",
        "    'LogReg': LogisticRegression(class_weight='balanced')\n",
        "}"
      ],
      "id": "12a81d3d",
      "execution_count": null,
      "outputs": []
    },
    {
      "cell_type": "markdown",
      "metadata": {},
      "source": [
        "A function called model_evaluate is defined in order to evaluate each model and return evaluations in terms of the visualization of a confusion matrix and classification report of different metrics (F1, accuracy, precision, recall). Additionally, an ROC curve is drawn to visually evaluate the performance of the models.\n",
        "\n",
        "model_evaluate will take each model from the pre-defined dictionary, fit the training data in X_test to it, and then evaluate its performance on the test corpus in X_test.\n"
      ],
      "id": "ee45c899"
    },
    {
      "cell_type": "code",
      "metadata": {},
      "source": [
        "def model_evaluate(models, model_name):\n",
        "    # Create the pipeline\n",
        "    pipeline = Pipeline(steps=[\n",
        "        ('model', models[model_name])\n",
        "    ])\n",
        "\n",
        "    # Fit the pipeline on the training data\n",
        "    pipeline.fit(X_train, y_train)\n",
        "\n",
        "    # Make predictions on the test data\n",
        "    y_pred = pipeline.predict(X_test)\n",
        "     \n",
        "    # Calculate evaluation metrics\n",
        "    print('Summary report for {}'.format(model_name))\n",
        "    print(\"Classification Report:\")\n",
        "    print(classification_report(y_test, y_pred))\n",
        "\n",
        "    # Confusion Matrix\n",
        "    print(\"Confusion Matrix:\")\n",
        "    cm = confusion_matrix(y_test, y_pred)\n",
        "    cmplot = ConfusionMatrixDisplay(cm)\n",
        "    cmplot.plot()\n",
        "    plt.show()\n",
        "\n",
        "    # AUC-ROC Curve\n",
        "    print(\"AUC-ROC Curve:\")\n",
        "    y_pred_proba = pipeline.predict_proba(X_test)[:, 1]\n",
        "    auc_roc = roc_auc_score(y_test, y_pred_proba)\n",
        "    fpr, tpr, _ = roc_curve(y_test, y_pred_proba)\n",
        "\n",
        "    # Plot the ROC curve\n",
        "    plt.figure(figsize=(8, 6))\n",
        "    plt.plot(fpr, tpr, label='ROC curve (area = %0.4f)' % auc_roc)\n",
        "    plt.plot([0, 1], [0, 1], 'k--')\n",
        "    plt.xlim([0.0, 1.0])\n",
        "    plt.ylim([0.0, 1.05])\n",
        "    plt.xlabel('False Positive Rate')\n",
        "    plt.ylabel('True Positive Rate')\n",
        "    plt.title('Receiver Operating Characteristic')\n",
        "    plt.legend(loc=\"lower right\")\n",
        "    plt.show()"
      ],
      "id": "8799448c",
      "execution_count": null,
      "outputs": []
    },
    {
      "cell_type": "markdown",
      "metadata": {},
      "source": [
        "The evaluation of the XGBoost model:\n"
      ],
      "id": "c1ffab69"
    },
    {
      "cell_type": "code",
      "metadata": {},
      "source": [
        "model_evaluate(models,'XGBoost')"
      ],
      "id": "584e8fa8",
      "execution_count": null,
      "outputs": []
    },
    {
      "cell_type": "markdown",
      "metadata": {},
      "source": [
        "The evaluation of the SVM model:\n"
      ],
      "id": "81cf5e36"
    },
    {
      "cell_type": "code",
      "metadata": {},
      "source": [
        "model_evaluate(models,'SVM')"
      ],
      "id": "b8ce5515",
      "execution_count": null,
      "outputs": []
    },
    {
      "cell_type": "markdown",
      "metadata": {},
      "source": [
        "The evaluation of the Logistic Regression model:\n"
      ],
      "id": "4a24f87a"
    },
    {
      "cell_type": "code",
      "metadata": {},
      "source": [
        "model_evaluate(models,'LogReg')"
      ],
      "id": "6e043b44",
      "execution_count": null,
      "outputs": []
    },
    {
      "cell_type": "markdown",
      "metadata": {},
      "source": [
        "Based on the evaluation of the three models, the XGBoost model can be considered to be the most effective as it achieved the highest F1-score and the highest accuracy of 96%. In order to improve the rigor of our machine learning, K-fold Cross Validation can be performed to further evaluate each of the model.\n",
        "\n",
        "### K-fold Cross Validation Method\n",
        "\n",
        "It is possible to tweak our functions to perform StratifiedKFold validation instead of a simple train-test split.\n"
      ],
      "id": "ea8bb15b"
    },
    {
      "cell_type": "code",
      "metadata": {},
      "source": [
        "scoring = {'accuracy' : make_scorer(accuracy_score), \n",
        "           'precision' : make_scorer(precision_score),\n",
        "           'recall' : make_scorer(recall_score), \n",
        "           'f1_score' : make_scorer(f1_score)}\n",
        "           \n",
        "def model_evaluate_kfold(models, model_name):\n",
        "    pipeline = Pipeline(steps=[\n",
        "        ('vectorizer', TfidfVectorizer(tokenizer=dummy, preprocessor=dummy, token_pattern=None, ngram_range=(1, 1), min_df=0.1)),\n",
        "        ('model', models[model_name])\n",
        "    ])\n",
        "\n",
        "    # Use stratified k-fold cross-validation\n",
        "    cv = StratifiedKFold(n_splits=10, shuffle=True, random_state=42)\n",
        "\n",
        "    # Perform cross-validation\n",
        "    scores = cross_validate(pipeline, X, y, cv=cv, scoring=scoring)\n",
        "    print(f\"Cross-validation scores for {model_name}:\")\n",
        "    print(f\"Accuracy: {scores['test_accuracy']}\")\n",
        "    print(f\"Precision: {scores['test_precision'].mean()}\")\n",
        "    print(f\"Recall: {scores['test_recall'].mean()}\")\n",
        "    print(f\"F1-score: {scores['test_f1_score'].mean()}\")\n",
        "    print(f\"Mean accuracy: {scores['test_accuracy'].mean()}\")\n",
        "    print(f\"Standard deviation: {scores['test_accuracy'].std()}\")"
      ],
      "id": "32c5b07f",
      "execution_count": null,
      "outputs": []
    },
    {
      "cell_type": "markdown",
      "metadata": {},
      "source": [
        "Now, it is possible to evaluate our models, starting with XGBoost. Due to the nature of k-fold validation, the process would take longer than simple train-test evaluation:\n"
      ],
      "id": "cd53c4a0"
    },
    {
      "cell_type": "code",
      "metadata": {},
      "source": [
        "model_evaluate_kfold(models,'XGBoost')"
      ],
      "id": "1cd53887",
      "execution_count": null,
      "outputs": []
    },
    {
      "cell_type": "markdown",
      "metadata": {},
      "source": [
        "It is possible to see that the Accuracy and F1-score improved by almost one percentage point when k-fold validation is performed instead of a simple train-test training.\n",
        "\n",
        "Let's continue to evaluate the SVM and Logistic Regression models.\n"
      ],
      "id": "9b8bffc6"
    },
    {
      "cell_type": "code",
      "metadata": {},
      "source": [
        "model_evaluate_kfold(models,'SVM')"
      ],
      "id": "b2129666",
      "execution_count": null,
      "outputs": []
    },
    {
      "cell_type": "code",
      "metadata": {},
      "source": [
        "model_evaluate_kfold(models,'LogReg')"
      ],
      "id": "29a979de",
      "execution_count": null,
      "outputs": []
    },
    {
      "cell_type": "markdown",
      "metadata": {},
      "source": [
        "It is possible to detect a slight increase in each evaluation metric for the three models. Moving forward, it can be determined that XGBoost and k-fold cross validation can be used for further experimentation. The baseline results using XGBoost can be stored for later comparison.\n"
      ],
      "id": "981dd68b"
    },
    {
      "cell_type": "code",
      "metadata": {},
      "source": [
        "pipeline = Pipeline(steps=[\n",
        "    ('vectorizer', TfidfVectorizer(tokenizer=dummy, preprocessor=dummy, token_pattern=None, ngram_range=(1, 1), min_df=0.1)),\n",
        "    ('model', models['XGBoost'])\n",
        "])\n",
        "\n",
        "# Use stratified k-fold cross-validation\n",
        "cv = StratifiedKFold(n_splits=10, shuffle=True, random_state=42)\n",
        "\n",
        "# Perform cross-validation\n",
        "scores = cross_validate(pipeline, X, y, cv=cv, scoring=scoring)\n",
        "scores_baseline = [scores['test_f1_score'].mean(), scores['test_accuracy'].mean()]"
      ],
      "id": "943d2715",
      "execution_count": null,
      "outputs": []
    },
    {
      "cell_type": "markdown",
      "metadata": {},
      "source": [
        "Following the determination of a model and evaluation method, Sentiment Analysis can be performed in order to understand the sentiments of fake news versus real news and to potentially create new features for fake news detection with machine learning.\n",
        "\n",
        "## Sentiment Analysis\n",
        "\n",
        "Sentiment analysis, or opinion mining, aims to identify the emotional pattern within written text. By conducting sentiment analysis, the sentiment, attitudes, and emotions expressed by a piece of text can be determined (Liu, 2020). Such analysis is particularly relevant to the fake news detection as targeting emotions and provoking an emotional response are the main vectors of effectiveness and spread for fraudulent information (Bakir & McStay, 2018; Horner, et al., 2021). In addition, due to the prominent role that sentiments play in fake news, multiple studies have found that by including sentiment analysis, the performance of a fake news classifier can be improved (Ajao et al., 2019; Alonso et al., 2021; Zhang et al., 2021).\n",
        "\n",
        "In this project, the goal of sentiment analysis is two-fold. First, sentiment analysis is an objective in and of itself, allowing the study to capture any emotional disparity between fake and genuine news and describe the usage of emotions in fake news. Second, the results of sentiment analysis can serve as new features for document classification, potentially improving its performance. We utilized two of the most popular Python packages, NLTK and TextBlob. However, it is important to note that a clear drawback of any sentiment analysis task based on existing dictionaries will be that the context of the dictionary might not match with the context of the current corpus.\n",
        "\n",
        "For the purpose of this project, sentiment analysis will be performed using two libraries, NLTK's VADER and TextBlob.\n",
        "\n",
        "### VADER\n",
        "\n",
        "NLTK is a powerful tool for natural language processing, including classifiers and sentiment lexicons for sentiment analysis. It works with many text analytics tasks, provides users with a pretrained lexicon and rule-based sentiment analyzer called Valence Aware Dictionary and sEntiment Reasoner (VADER) (Mogyorosi, n.d.). The VADER analyzer uses the vader_lexicon developed by C.J. Hutto and Eric Gilbert, which measures a sentiment intensity score from words, phrases and emojis, and based on their emotional content, from negative to positive. This vader_lexicon can be applied to a piece of written text using NLTK’s SentimentIntensityAnalyzer’s polarity_score() function. SentimentIntensityAnalyzer can be applied to whole sentences instead of tokenized text. However, we note that VADER was trained specifically for social media data to handle complex language sentiments, which may not be completely applicable to fake news.\n",
        "\n",
        "As the VADER lexicon can be applied directly to text using the SentimentIntensityAnalyzer(), polarity scores for each document in the corpus can be generated by applying .polarity_score() on each record of the processed text dataframe, df. Four score types can be generated from .polarity_score(), and we store each score in one newly created column in df:\n",
        "\n",
        "-   Compound: overall sentiment score between -1 to 1\n",
        "\n",
        "-   Negative: negative sentiment score between 0 to 1\n",
        "\n",
        "-   Neutral: neutral sentiment score between 0 to 1\n",
        "\n",
        "-   Positive: positive sentiment score between 0 to 1\n",
        "\n",
        "The compound score is used as a feature in the classification model as it represents the overall sentiment of each document. The compound score is the sum of the valence scores of each word in the lexicon, normalized to be between -1 and +1 (Swarnkar, 2020).\n",
        "\n",
        "First, we load the SentimentIntensityAnalyzer into a variable.\n"
      ],
      "id": "510cdbf9"
    },
    {
      "cell_type": "code",
      "metadata": {},
      "source": [
        "sen_ana = SentimentIntensityAnalyzer()"
      ],
      "id": "4f3f9199",
      "execution_count": null,
      "outputs": []
    },
    {
      "cell_type": "markdown",
      "metadata": {},
      "source": [
        "Let's test how the results of the analyzer are displayed.\n"
      ],
      "id": "325074fc"
    },
    {
      "cell_type": "code",
      "metadata": {},
      "source": [
        "print(sen_ana.polarity_scores('I love quiz'))\n",
        "print(sen_ana.polarity_scores('I hate quiz'))"
      ],
      "id": "6f81d345",
      "execution_count": null,
      "outputs": []
    },
    {
      "cell_type": "markdown",
      "metadata": {},
      "source": [
        "We can see that the first statement is rated to be very positive while the second statement is considered very negative, which makes sense with a cursory inspection.\n",
        "\n",
        "Instead of having all four scores combined as above, it would be easier for analysis if they're stored in separate columns. To do so, we can assign each of the score to a new column in the data frame.\n"
      ],
      "id": "2a95b4e3"
    },
    {
      "cell_type": "code",
      "metadata": {},
      "source": [
        "df['nltk_compound']  = df['text'].apply(lambda x: sen_ana.polarity_scores(x)['compound'])\n",
        "df['nltk_neg'] = df['text'].apply(lambda x: sen_ana.polarity_scores(x)['neg'])\n",
        "df['nltk_neu'] = df['text'].apply(lambda x: sen_ana.polarity_scores(x)['neu'])\n",
        "df['nltk_pos'] = df['text'].apply(lambda x: sen_ana.polarity_scores(x)['pos'])"
      ],
      "id": "286eff6d",
      "execution_count": null,
      "outputs": []
    },
    {
      "cell_type": "markdown",
      "metadata": {},
      "source": [
        "It is now possible to see the average sentiment scores by class of articles.\n"
      ],
      "id": "8c83d620"
    },
    {
      "cell_type": "code",
      "metadata": {},
      "source": [
        "df.groupby('class')[['nltk_neg','nltk_neu','nltk_pos','nltk_compound']].mean()"
      ],
      "id": "fca978a7",
      "execution_count": null,
      "outputs": []
    },
    {
      "cell_type": "markdown",
      "metadata": {},
      "source": [
        "It can be observed that the sentiment differences between the two classes of fake and true news are not significantly divergent based on their mean scores. A visualization might help to further elucidate any potential differences.\n"
      ],
      "id": "05c7b377"
    },
    {
      "cell_type": "code",
      "metadata": {},
      "source": [
        "fig, axs = plt.subplots(2, 2, figsize=(12, 8))\n",
        "sns.histplot(df, x=\"nltk_neg\", hue=\"class\", stat=\"count\",ax=axs[0, 0])\n",
        "sns.histplot(df, x=\"nltk_neu\", hue=\"class\", stat=\"count\",ax=axs[0, 1])\n",
        "sns.histplot(df, x=\"nltk_pos\", hue=\"class\", stat=\"count\",ax=axs[1, 0])\n",
        "sns.histplot(df, x=\"nltk_compound\", hue=\"class\", stat=\"count\",ax=axs[1, 1])\n",
        "plt.tight_layout()\n",
        "plt.show()"
      ],
      "id": "50fe233d",
      "execution_count": null,
      "outputs": []
    },
    {
      "cell_type": "markdown",
      "metadata": {},
      "source": [
        "### TextBlob\n",
        "\n",
        "TextBlob is a user-friendly library built on NLTK library, allowing users to easily analyze a text corpus. It is more oriented towards user reviews and based on the “pattern” library, which contains high frequency adjectives in reviews. In addition to a customizable library of adjectives, TextBlob also provides a library created through machine learning, namely a Naïve Bayes Classifier model to classify text as positive, negative, or neutral. This library applied a machine-learning model on a corpus of movie reviews and score rating to derive the ratings of words (Loria, 2020).\n",
        "\n",
        "The TextBlob().sentiment function is applied directly to each record of the processed text dataframe, df. Two score types are generated from this function, and each is stored in one newly created column in df:\n",
        "\n",
        "-   Polarity: measures negative or positive sentiment between -1 and 1, with -1 defined as a negative sentiment and 1 defined as a positive sentiment.\n",
        "\n",
        "-   Subjectivity: quantifies the amount of personal opinion and factual information contained in the text between 0 and 1. Higher subjectivity means that the text contains personal opinion than facts\n",
        "\n",
        "Let's see a demonstration of TextBlob in Python.\n"
      ],
      "id": "c588dacc"
    },
    {
      "cell_type": "code",
      "metadata": {},
      "source": [
        "texts = ['I love quiz', 'I hate quiz']\n",
        "\n",
        "# Create TextBlob objects with the text\n",
        "# Analyze sentiments and print\n",
        "for text in texts:\n",
        "    sentiment = TextBlob(text).sentiment\n",
        "    print(f\"Sentiment for '{text}': {sentiment}\")"
      ],
      "id": "98af0097",
      "execution_count": null,
      "outputs": []
    },
    {
      "cell_type": "markdown",
      "metadata": {},
      "source": [
        "Similar to VADER, TextBlob identified the first statement as having a positive polarity score while the second as having a negative polarity score. It is important to note that even though a cursory examination shows both statements to be equally subjective, TextBlob indicates that one is more subjective than the other.\n",
        "\n",
        "TextBlob can be applied to our corpus and the resulting scores can be stored in their own respective columns.\n"
      ],
      "id": "cf0c446a"
    },
    {
      "cell_type": "code",
      "metadata": {},
      "source": [
        "df['textblob_sentiment'] = df['text'].apply(lambda x: TextBlob(x).sentiment)"
      ],
      "id": "76736a16",
      "execution_count": null,
      "outputs": []
    },
    {
      "cell_type": "code",
      "metadata": {},
      "source": [
        "df['textblob_polarity'] = df['textblob_sentiment'].apply(lambda x: x.polarity)\n",
        "df['textblob_subjectivity'] = df['textblob_sentiment'].apply(lambda x: x.subjectivity)"
      ],
      "id": "ae97c884",
      "execution_count": null,
      "outputs": []
    },
    {
      "cell_type": "markdown",
      "metadata": {},
      "source": [
        "Next, the mean polarity and subjectivity scores from TextBlob can be calculated.\n"
      ],
      "id": "6b352c9e"
    },
    {
      "cell_type": "code",
      "metadata": {},
      "source": [
        "sentiment_means = df.groupby('class')[['textblob_polarity', 'textblob_subjectivity']].mean()\n",
        "print(sentiment_means)"
      ],
      "id": "0ddb3ed7",
      "execution_count": null,
      "outputs": []
    },
    {
      "cell_type": "markdown",
      "metadata": {},
      "source": [
        "Once again, the difference between the Fake and True news classes do not seem to be significant. It might be useful to visualize the distribution of scores in order to confirm this observation.\n"
      ],
      "id": "87404924"
    },
    {
      "cell_type": "code",
      "metadata": {},
      "source": [
        "fig, axs = plt.subplots(1, 2, figsize=(12, 8))\n",
        "sns.histplot(df, x=\"textblob_polarity\", hue=\"class\", stat=\"count\", ax = axs[0])\n",
        "sns.histplot(df, x=\"textblob_subjectivity\", hue=\"class\", stat=\"count\", ax = axs[1])\n",
        "plt.tight_layout()\n",
        "plt.show()"
      ],
      "id": "7bc3b42e",
      "execution_count": null,
      "outputs": []
    },
    {
      "cell_type": "markdown",
      "metadata": {},
      "source": [
        "Let's combine all the scores into one table for easier comparison.\n"
      ],
      "id": "ebbce194"
    },
    {
      "cell_type": "code",
      "metadata": {},
      "source": [
        "nltk_sentiment = df.groupby('class')[['nltk_neg','nltk_neu','nltk_pos','nltk_compound']].mean()\n",
        "textblob_sentiment = df.groupby('class')[['textblob_polarity', 'textblob_subjectivity']].mean()\n",
        "summary_table = pd.concat([nltk_sentiment,textblob_sentiment],axis = 1)\n",
        "summary_table.index = ['True','Fake']\n",
        "pd.set_option('display.max_columns', 7)\n",
        "summary_table"
      ],
      "id": "9fd4794c",
      "execution_count": null,
      "outputs": []
    },
    {
      "cell_type": "markdown",
      "metadata": {},
      "source": [
        "It can be seen that Fake News have an NLTK Negative mean score closer to –1 (0.101657), indicating that Fake News articles contain more words linked to negative emotions than real true news. However, if TextBlob scores are considered, the Polarity score for True News is slightly smaller, indicating that True News is more negative. Yet, these scores are so similar that it might not indicate a meaningful difference. At the same time, it is possible that Fake News, in general, contain more emotions, either negative or positive, compared to True News. This is reflected in Fake News higher score for NLTK Positive Sentiment (0.092697) compared to True News (0.081833). By encompassing both more negative and positive emotions, the mean TextBlob Polarity score for Fake News can be normalized.\n",
        "\n",
        "On the other hand, the Subjectivity scores exhibit a larger difference between Fake (0.452103) and True News (0.3607), reflecting the potential for Fake News to contain more opinions than facts compared to True News. Histograms visualizing the distribution difference between True and Fake news can be referenced in the Appendix.\n",
        "\n",
        "Because a difference seems to exist between True News and Fake News for different sentiment categories, the idea that sentiment scores can be added as a feature for the classification task is further reinforced.\n",
        "\n",
        "In the following section, the document classification model using XGBoost and k-fold cross validation will be refitted to a set of features including the vectorized text of the corpus as well as the compound sentiment scores from NLTK (Compound Score) and TextBlob (Polarity Score) and subjectivity score from TextBlob (Subjectivity Score). Each of these feature will be added sequentially, then combined together to discern their effect on model performance.\n",
        "\n",
        "## Document Classification with Sentiment Analysis\n",
        "\n",
        "### Document Classification with Sentiment Analysis (NLTK VADER)\n",
        "\n",
        "Firstly, we can perform document classification using NLTK's compound score with XGBoost and k-fold cross validation.\n",
        "\n",
        "Only one step is added to the process, which is to use hstack from numpy in order to stack the features column wise after vectorization of text features.\n"
      ],
      "id": "8fae93ba"
    },
    {
      "cell_type": "code",
      "metadata": {},
      "source": [
        "# Define the dependent and independent variables\n",
        "x = df['text_preprocessed']\n",
        "x_sentiment_compound = df['nltk_compound'].values.reshape(-1,1)\n",
        "y = df['class']"
      ],
      "id": "c082da6c",
      "execution_count": null,
      "outputs": []
    },
    {
      "cell_type": "code",
      "metadata": {},
      "source": [
        "# Create features with compound sentiment score\n",
        "def dummy(tokens):\n",
        "    return tokens\n",
        "\n",
        "vectorizer = TfidfVectorizer(tokenizer=dummy, \n",
        "                             preprocessor=dummy, \n",
        "                             token_pattern=None, \n",
        "                             ngram_range=(1, 2), \n",
        "                             min_df=0.1)\n",
        "                             \n",
        "x_feature = vectorizer.fit_transform(x)\n",
        "x_compound = hstack((x_feature,x_sentiment_compound))"
      ],
      "id": "d6c7660d",
      "execution_count": null,
      "outputs": []
    },
    {
      "cell_type": "code",
      "metadata": {},
      "source": [
        "scoring = {'accuracy' : make_scorer(accuracy_score), \n",
        "           'precision' : make_scorer(precision_score),\n",
        "           'recall' : make_scorer(recall_score), \n",
        "           'f1_score' : make_scorer(f1_score)}\n",
        "\n",
        "model = xgb.XGBClassifier()\n",
        "\n",
        "# Use stratified k-fold cross-validation\n",
        "cv = StratifiedKFold(n_splits=10, shuffle=True, random_state=42)\n",
        "\n",
        "# Perform cross-validation\n",
        "scores = cross_validate(model, x_compound, y, cv=cv, scoring=scoring)\n",
        "\n",
        "scores_nltk = [scores['test_f1_score'].mean(),scores['test_accuracy'].mean()]\n",
        "\n",
        "print(f\"Cross-validation scores for XGBoost:\")\n",
        "print(f\"Accuracy: {scores['test_accuracy']}\")\n",
        "print(f\"Precision: {scores['test_precision'].mean()}\")\n",
        "print(f\"Recall: {scores['test_recall'].mean()}\")\n",
        "print(f\"F1-score: {scores['test_f1_score'].mean()}\")\n",
        "print(f\"Mean accuracy: {scores['test_accuracy'].mean()}\")\n",
        "print(f\"Standard deviation: {scores['test_accuracy'].std()}\")"
      ],
      "id": "0ba1b25e",
      "execution_count": null,
      "outputs": []
    },
    {
      "cell_type": "markdown",
      "metadata": {},
      "source": [
        "It can be observed that the F1 score and mean accuracy both demonstrate a marginal increase of around 0.01%, showing that adding features related to sentiment analysis could possibly make a difference. The next section will explore the use of TextBlob's sentiment and subjectivity scores as features and the combined sets of NLTK and TextBlob features.\n",
        "\n",
        "### Document Classification with Sentiment Analysis (TextBlob)\n"
      ],
      "id": "521aeba3"
    },
    {
      "cell_type": "code",
      "metadata": {},
      "source": [
        "# Define the dependent and independent variables\n",
        "x = df['text_preprocessed']\n",
        "x_sentiment_polarity = df['textblob_polarity'].values.reshape(-1,1)\n",
        "x_sentiment_subjectivity = df['textblob_subjectivity'].values.reshape(-1,1)\n",
        "y = df['class']"
      ],
      "id": "6cb954d3",
      "execution_count": null,
      "outputs": []
    },
    {
      "cell_type": "code",
      "metadata": {},
      "source": [
        "# Create features with polarity and subjectivity sentiment score\n",
        "def dummy(tokens):\n",
        "    return tokens\n",
        "vectorizer = TfidfVectorizer(tokenizer=dummy, preprocessor=dummy, token_pattern=None, ngram_range=(1, 2), min_df=0.1)\n",
        "x_feature = vectorizer.fit_transform(x)\n",
        "x_pol_sub = hstack((x_feature, x_sentiment_polarity, x_sentiment_subjectivity))"
      ],
      "id": "b350ad4b",
      "execution_count": null,
      "outputs": []
    },
    {
      "cell_type": "code",
      "metadata": {},
      "source": [
        "scoring = {'accuracy' : make_scorer(accuracy_score), \n",
        "           'precision' : make_scorer(precision_score),\n",
        "           'recall' : make_scorer(recall_score), \n",
        "           'f1_score' : make_scorer(f1_score)}\n",
        "\n",
        "model = xgb.XGBClassifier()\n",
        "\n",
        "# Use stratified k-fold cross-validation\n",
        "cv = StratifiedKFold(n_splits=10, shuffle=True, random_state=42)\n",
        "\n",
        "# Perform cross-validation\n",
        "scores = cross_validate(model, x_pol_sub, y, cv=cv, scoring=scoring)\n",
        "\n",
        "scores_textblob = [scores['test_f1_score'].mean(),scores['test_accuracy'].mean()]\n",
        "\n",
        "print(f\"Cross-validation scores for XGBoost:\")\n",
        "print(f\"Accuracy: {scores['test_accuracy']}\")\n",
        "print(f\"Precision: {scores['test_precision'].mean()}\")\n",
        "print(f\"Recall: {scores['test_recall'].mean()}\")\n",
        "print(f\"F1-score: {scores['test_f1_score'].mean()}\")\n",
        "print(f\"Mean accuracy: {scores['test_accuracy'].mean()}\")\n",
        "print(f\"Standard deviation: {scores['test_accuracy'].std()}\")"
      ],
      "id": "f4aa3100",
      "execution_count": null,
      "outputs": []
    },
    {
      "cell_type": "markdown",
      "metadata": {},
      "source": [
        "### Document Classification with Sentiment Analysis (NLTK VADER and TextBlob)\n"
      ],
      "id": "1e69b8c5"
    },
    {
      "cell_type": "code",
      "metadata": {},
      "source": [
        "# Define the dependent and independent variables\n",
        "x = df['text_preprocessed']\n",
        "x_sentiment_compound = df['nltk_compound'].values.reshape(-1,1)\n",
        "x_sentiment_polarity = df['textblob_polarity'].values.reshape(-1,1)\n",
        "x_sentiment_subjectivity = df['textblob_subjectivity'].values.reshape(-1,1)\n",
        "y = df['class']"
      ],
      "id": "ca5ef4d0",
      "execution_count": null,
      "outputs": []
    },
    {
      "cell_type": "code",
      "metadata": {},
      "source": [
        "# Create features with compound, polarity, subjecctivity scores\n",
        "def dummy(tokens):\n",
        "    return tokens\n",
        "vectorizer = TfidfVectorizer(tokenizer=dummy, preprocessor=dummy, token_pattern=None, ngram_range=(1, 2), min_df=0.1)\n",
        "x_feature = vectorizer.fit_transform(x)\n",
        "x_combined = hstack((x_feature, x_sentiment_compound, x_sentiment_polarity, x_sentiment_subjectivity))"
      ],
      "id": "89956fdb",
      "execution_count": null,
      "outputs": []
    },
    {
      "cell_type": "code",
      "metadata": {},
      "source": [
        "scoring = {'accuracy' : make_scorer(accuracy_score), \n",
        "           'precision' : make_scorer(precision_score),\n",
        "           'recall' : make_scorer(recall_score), \n",
        "           'f1_score' : make_scorer(f1_score)}\n",
        "\n",
        "model = xgb.XGBClassifier()\n",
        "\n",
        "# Use stratified k-fold cross-validation\n",
        "cv = StratifiedKFold(n_splits=10, shuffle=True, random_state=42)\n",
        "\n",
        "# Perform cross-validation\n",
        "scores = cross_validate(model, x_combined, y, cv=cv, scoring=scoring)\n",
        "\n",
        "scores_nltk_textblob = [scores['test_f1_score'].mean(),scores['test_accuracy'].mean()]\n",
        "\n",
        "print(f\"Cross-validation scores for XGBoost:\")\n",
        "print(f\"Accuracy: {scores['test_accuracy']}\")\n",
        "print(f\"Precision: {scores['test_precision'].mean()}\")\n",
        "print(f\"Recall: {scores['test_recall'].mean()}\")\n",
        "print(f\"F1-score: {scores['test_f1_score'].mean()}\")\n",
        "print(f\"Mean accuracy: {scores['test_accuracy'].mean()}\")\n",
        "print(f\"Standard deviation: {scores['test_accuracy'].std()}\")"
      ],
      "id": "dcf37722",
      "execution_count": null,
      "outputs": []
    },
    {
      "cell_type": "code",
      "metadata": {},
      "source": [
        "pd.DataFrame([scores_baseline, scores_nltk,scores_textblob,scores_nltk_textblob], columns = ['F1-score','Accuracy'], index = ['Baseline XGBoost','NLTK VADER','TextBlob','Combined'])"
      ],
      "id": "5e677509",
      "execution_count": null,
      "outputs": []
    },
    {
      "cell_type": "markdown",
      "metadata": {},
      "source": [
        "All three models that incorporated sentiment analysis scores (NLTK VADER, TextBlob, and Combined) showed an improvement in model performance compared to the baseline XGBoost model. These findings correlate with the studies cited that sentiment analysis may be a useful feature for enhancing model performance.\n",
        "\n",
        "## Discussions and Gap Analysis\n",
        "\n",
        "### **Inclusion of Sentiment Analysis in Document Classification**\n",
        "\n",
        "The results of document classification using the results of sentiment analysis as additional features exhibit improvements over base classification models using only text as features. This shows that the consideration of sentiment analysis could be a fruitful endeavor in the identification of fake news. Additionally, it reinforces the idea that fake news tends to have more emotion expressors than regular news to incite an emotional response from readers. What is lacking, however, is a word-sentiment dictionary which might be more appropriate to the context of news articles. Such a dictionary might further improve the results of the classifications by allowing for better calculation of sentiment scores.\n",
        "\n",
        "### **Named Entities**\n",
        "\n",
        "In news articles, it is very common for named entities to be used that might not be recognized in dictionaries, and with the lack of recognition, also comes the lack of context surrounding the entities. If the model can recognize these entities, this would then further enhance how it differentiates real news from fake news as there is additional information for the model to consider.\n",
        "\n",
        "### **Data Source**\n",
        "\n",
        "The Kaggle dataset that was used seems to likely be from the United States. Most of the fake news were related to America’s politics and thus the model has been tuned to pick up keywords along this theme. This means that if we were to apply this model to datasets from around the world, the model might not be as applicable or accurate anymore as the topics identified will likely not be as relevant. For example, news about Trump’s inauguration might not be as big in Singapore, and thus if the model was used as-is to run on Singapore’s news, the results produced would thereby not be as accurate.\n",
        "\n",
        "### **Technical Limitations**\n",
        "\n",
        "As we were dealing with a large dataset and performing complex NLP tasks, we faced constraints such as computational resources and processing speed issues. Running the code sometimes took more than an hour, due to the nature of the computations that we were running. This was quite inefficient, as we needed to test multiple models and had several revisions of code, resulting in us having to spend time allowing the code to load.\n",
        "\n",
        "### **Dynamic Nature of Fake News**\n",
        "\n",
        "As technology evolves, so do the methods of dissemination of fake news. With ever-changing tactics to deceive the masses, static models that are not continually updated will not be able to adapt to any emerging trends. As such, if the model is not regularly refreshed, it will sooner or later become obsolete and inaccurate.\n",
        "\n",
        "## Future Work and Conclusion\n",
        "\n",
        "### **Named Entity Recognition (NER)**\n",
        "\n",
        "Named Entity Recognition (NER) can extract important entities mentioned in news articles, such as the names of politicians, organizations, or locations. By analyzing the entities mentioned in both fake and real news, patterns may emerge that could indicate the credibility or authenticity of the article. Additionally, by analyzing the context surrounding named entities, NER can help detect instances of misinformation or propaganda. For example, if a fake news article mentions a well-known organization or individual in a misleading context, NER can help identify the discrepancy between the entity's actual role or stance and how it is portrayed in the article.\n",
        "\n",
        "### **Extension of Data Source Scope** \n",
        "\n",
        "To tackle the second issue, a future extension of this project would then be to re-train the model based on local news. This would then help to include more local topics on top of the American news (as Singapore is so interlinked to the rest of the world, American news would not be completely irrelevant, so keeping this would not be completely useless). The accuracy and precision of the model would then be improved, and thereby we will be able to use this model for local news as well.\n",
        "\n",
        "### **Regular Updating of Dataset**\n",
        "\n",
        "Our model will need to be updated regularly with more recent articles to ensure that it can continue to stay relevant and continue to identify fake news accurately, even those disseminated with new methods of trickery.\n",
        "\n",
        "## **References**\n",
        "\n",
        "Ajao, O., Bhowmik, D., & Zargari, S. (2019). Sentiment Aware Fake News Detection on Online Social Networks. *ICASSP 2019 - 2019 IEEE International Conference on Acoustics, Speech and Signal Processing (ICASSP)*, 2507–2511. <https://doi.org/10.1109/ICASSP.2019.8683170>\n",
        "\n",
        "Bakir, V., & McStay, A. (2018). Fake News and The Economy of Emotions. *Digital Journalism*, 6:2, 154-175. doi:https://doi.org/10.1080/21670811.2017.1345645\n",
        "\n",
        "Guess, A., Lockett, L., Benjamin, L., Montgomery, J., Nyhan, B., & Reifler, J. (2020). “Fake news” may have limited effects on political participation beyond increasing beliefs in false claims. *Harvard Kennedy School (HKS) Misinformation Review*. doi:https://doi.org/10.37016/mr-2020-004\n",
        "\n",
        "Horner, C., Galletta, D., Crawford, J., & Shirsat, A. (2021). Emotions: The Unexplored Fuel of Fake News on Social Media. *Journal of Management Information Systems*, 38:4, 1039-1066. doi:https://doi.org/10.1080/07421222.2021.1990610\n",
        "\n",
        "Kohavi, R. (1995). A Study of Cross-Validation and Bootstrap for Accuracy Estimation and Model Selection. *International Joint Conference on Arti*, Vol. 14, pp. 1137–1145. doi:http://frostiebek.free.fr/docs/Machine%20Learning/validation-1.pdf\n",
        "\n",
        "Lazer, D. M., Baum, M., Benkler, Y., Berinsky, A., Greenhill, K., Menczer, F., . . . Zittrain, J. (2018). The science of fake news. *Science359*, 1094-1096. doi:https://doi.org/10.1126/science.aao2998\n",
        "\n",
        "Liu, B. (2020). Introduction. In B. Liu, *Sentiment Analysis Mining Opinions, Sentiments, and Emotions* (pp. 1-17). Cambridge University Press. doi:https://doi.org/10.1017/9781108639286.002\n",
        "\n",
        "Swarnkar, N. (2020, May 21). *VADER Sentiment Analysis: A Complete Guide, Algo Trading and More*. Retrieved from QuantInsti: https://blog.quantinsti.com/vader-sentiment/\n",
        "\n",
        "Zhang, X., Cao, J., Li, X., Sheng, Q., Zhong, L., & Shu, K. (2021). Mining Dual Emotion for Fake News Detection. *Proceedings of the Web Conference 2021*, 3465–3476. <https://doi.org/10.1145/3442381.3450004>"
      ],
      "id": "dbc0bee0"
    }
  ],
  "metadata": {
    "kernelspec": {
      "name": "python3",
      "language": "python",
      "display_name": "Python 3 (ipykernel)"
    }
  },
  "nbformat": 4,
  "nbformat_minor": 5
}